{
 "cells": [
  {
   "cell_type": "code",
   "execution_count": 105,
   "id": "lesser-block",
   "metadata": {},
   "outputs": [
    {
     "name": "stdout",
     "output_type": "stream",
     "text": [
      "The autoreload extension is already loaded. To reload it, use:\n",
      "  %reload_ext autoreload\n"
     ]
    }
   ],
   "source": [
    "%load_ext autoreload\n",
    "%autoreload 2\n",
    "# Built-in modules\n",
    "import os\n",
    "import copy\n",
    "import gzip\n",
    "import shutil\n",
    "from pathlib import Path\n",
    "from datetime import datetime, timedelta\n",
    "\n",
    "# Basics of Python data handling and visualization\n",
    "import fs\n",
    "import numpy as np\n",
    "import pandas as pd\n",
    "import geopandas as gpd\n",
    "import matplotlib.pyplot as plt\n",
    "from matplotlib.colors import ListedColormap\n",
    "from tqdm.auto import tqdm\n",
    "from shapely import wkt\n",
    "from sentinelhub import bbox_to_dimensions\n",
    "from eolearn.io.local_io import ExportToTiff\n",
    "\n",
    "# Imports from eo-learn and sentinelhub-py\n",
    "from eolearn.core import EOPatch, EOTask, LinearWorkflow, FeatureType\n",
    "\n",
    "# Visualisation utils\n",
    "import sys; sys.path.append('..')\n",
    "from air_quality_and_health_challenge.utils import (get_extent, \n",
    "                   draw_outline, \n",
    "                   draw_bbox, \n",
    "                   draw_feature, \n",
    "                   draw_true_color,\n",
    "                   unzip_file,\n",
    "                   load_tiffs,\n",
    "                   days_to_datetimes,\n",
    "                   datetimes_to_days,\n",
    "                   reproject_tiff,\n",
    "                   upscale_tiff,\n",
    "                   mask_tiff)\n",
    "\n",
    "from data.validation_dates import validation_dates\n",
    "from data.test_dates import test_dates\n",
    "from lib.postprocessing import postprocess\n",
    "from algorithms.ensemble import Ensemble"
   ]
  },
  {
   "cell_type": "code",
   "execution_count": 106,
   "id": "fifty-cruise",
   "metadata": {},
   "outputs": [],
   "source": [
    "ROOT = Path('./')\n",
    "\n",
    "#data_dir = ROOT/'data/val/'\n",
    "data_dir = ROOT/'data/test/'\n",
    "\n",
    "write_dir = ROOT / 'wdir'\n",
    "OUTDIR = ROOT/'submissions/final_test_submission'\n",
    "os.makedirs(outdir, exist_ok=True)\n",
    "os.makedirs(write_dir, exist_ok=True)"
   ]
  },
  {
   "cell_type": "code",
   "execution_count": 152,
   "id": "proud-queen",
   "metadata": {},
   "outputs": [],
   "source": [
    "from configs.utils import load_config\n",
    "configs = {}\n",
    "configs[\"pm25_italy\"] = load_config(\"configs/pm25_italy.yaml\")\n",
    "configs[\"pm25_california\"] = load_config(\"configs/pm25_california.yaml\")\n",
    "configs[\"pm25_southafrica\"] = load_config(\"configs/pm25_southafrica.yaml\")\n",
    "configs[\"no2_italy\"] = load_config(\"configs/no2_italy.yaml\")\n",
    "configs[\"no2_california\"] = load_config(\"configs/no2_california.yaml\")\n",
    "configs[\"no2_southafrica\"] = load_config(\"configs/no2_southafrica.yaml\")"
   ]
  },
  {
   "cell_type": "code",
   "execution_count": 153,
   "id": "fossil-chuck",
   "metadata": {},
   "outputs": [],
   "source": [
    "bbox_ita = gpd.read_file(ROOT/'data/AOIs_bboxes/Italy/North_Italy_test.shp')\n",
    "bbox_cal = gpd.read_file(ROOT/'data/AOIs_bboxes/California/California_test.shp')\n",
    "bbox_sou = gpd.read_file(ROOT/'data/AOIs_bboxes/SouthAfrica/South_Africa_test.shp')"
   ]
  },
  {
   "cell_type": "code",
   "execution_count": 154,
   "id": "affecting-wings",
   "metadata": {},
   "outputs": [],
   "source": [
    "#dates = validation_dates\n",
    "dates = test_dates"
   ]
  },
  {
   "cell_type": "code",
   "execution_count": 180,
   "id": "searching-constraint",
   "metadata": {
    "tags": []
   },
   "outputs": [
    {
     "name": "stderr",
     "output_type": "stream",
     "text": [
      "/home/schapke/projects/competitions/AI4EO/lib/postprocessing.py:43: RuntimeWarning: divide by zero encountered in true_divide\n",
      "  predictions[pos_mask] = predictions[pos_mask] / rate[pos_mask] / 2\n"
     ]
    },
    {
     "name": "stdout",
     "output_type": "stream",
     "text": [
      "Done\n"
     ]
    }
   ],
   "source": [
    "# PM2.5 SUBMISSION\n",
    "for aoi, bbox in [('Italy', bbox_ita), ('California', bbox_cal), ('SouthAfrica', bbox_sou)]:\n",
    "    bbox.to_crs(epsg=4326, inplace=True)\n",
    "    bbox.to_file(write_dir/'bbox-wgs84.shp', driver='ESRI Shapefile')\n",
    "    \n",
    "    if aoi == \"SouthAfrica\":\n",
    "        dir = data_dir/\"South_Africa\"\n",
    "    else:\n",
    "        dir = data_dir/aoi\n",
    "    indir = dir/'CAMS/PM2_5'\n",
    "    \n",
    "    config = configs[\"pm25_\" + aoi.lower()]\n",
    "    ensemble = Ensemble(config, dir, write_dir/aoi)\n",
    "    ensemble.reload()\n",
    "    \n",
    "        \n",
    "    outdir = OUTDIR/aoi/\"PM2.5\"\n",
    "    os.makedirs(outdir, exist_ok=True)\n",
    "    for day, hour in dates[aoi][\"PM2.5\"]:\n",
    "        infile = [f for f in os.listdir(indir) if f\"day{day}_{hour}\" in f][0]\n",
    "        outfile = f\"{day}_PM25_{aoi}.tif\"\n",
    "        in_eop = load_tiffs(indir, (FeatureType.DATA, 'PM2_5'), \n",
    "                        filename=infile, data_source=\"cams\") \n",
    "        in_bbox = (in_eop.bbox.min_x, in_eop.bbox.min_y, in_eop.bbox.max_x, in_eop.bbox.max_y)\n",
    "        in_data = in_eop.data[\"PM2_5\"].squeeze()\n",
    "        \n",
    "        target_resolution = 1000 if aoi == \"Italy\" else 10_000\n",
    "        target_size = bbox_to_dimensions(in_eop.bbox, target_resolution)[::-1]\n",
    "        predictions = ensemble.predict((day, hour), target_size, verbose=False)\n",
    "        \n",
    "        out_data = postprocess(in_data, in_bbox, predictions, check=True)\n",
    "        out_eop = copy.deepcopy(in_eop)\n",
    "        out_eop.data[\"PM2_5\"] = out_data.reshape(1, target_size[0], target_size[1], 1)\n",
    "        \n",
    "        ft = FeatureType(\"data\")\n",
    "        eo_exporter = ExportToTiff(ft, outdir/outfile, no_data_value=-1e+12)\n",
    "        eo_exporter.execute(out_eop)\n",
    "        out_image = mask_tiff(write_dir/'bbox-wgs84.shp', outdir/outfile, outdir/outfile)     \n",
    "        \n",
    "print('Done')"
   ]
  },
  {
   "cell_type": "code",
   "execution_count": 181,
   "id": "stainless-breath",
   "metadata": {
    "tags": []
   },
   "outputs": [
    {
     "name": "stdout",
     "output_type": "stream",
     "text": [
      "Done!\n"
     ]
    }
   ],
   "source": [
    "# NO2 SUBMISSION\n",
    "for aoi, bbox in [('Italy', bbox_ita), ('California', bbox_cal), ('SouthAfrica', bbox_sou)]:\n",
    "    bbox.to_crs(epsg=4326, inplace=True)\n",
    "    bbox.to_file(write_dir/'bbox-wgs84.shp', driver='ESRI Shapefile')\n",
    "    \n",
    "    if aoi == \"SouthAfrica\":\n",
    "        dir = data_dir/\"South_Africa\"\n",
    "    else:\n",
    "        dir = data_dir/aoi\n",
    "    indir = dir/'sentinel5P/NO2'\n",
    "    \n",
    "    ensemble = Ensemble(configs[\"no2_\" + aoi.lower()], dir, write_dir/aoi)\n",
    "    ensemble.reload()\n",
    "    \n",
    "    outdir = OUTDIR/aoi/\"NO2\"\n",
    "    os.makedirs(outdir, exist_ok=True)\n",
    "    for day, hour in dates[aoi][\"NO2\"]:\n",
    "        infile = [f for f in os.listdir(indir) if f\"day{day}_T{hour[1:]}\" in f][0]\n",
    "        outfile = f\"{day}_NO2_{aoi}.tif\"\n",
    "        in_eop = load_tiffs(indir, (FeatureType.DATA, 'NO2'), \n",
    "                        filename=infile)\n",
    "        no2, qa = in_eop.data[\"NO2\"][..., 0], in_eop.data[\"NO2\"][..., 1]\n",
    "        no2[qa < 0.5] = no2[qa >= 0.5].mean()\n",
    "        in_eop.data[\"NO2\"] = no2.reshape(*no2.shape, 1)\n",
    "        in_bbox = (in_eop.bbox.min_x, in_eop.bbox.min_y, in_eop.bbox.max_x, in_eop.bbox.max_y)\n",
    "        in_data = in_eop.data[\"NO2\"].squeeze()\n",
    "        \n",
    "        target_resolution = 1000 \n",
    "        target_size = bbox_to_dimensions(in_eop.bbox, target_resolution)[::-1]\n",
    "        predictions = ensemble.predict((day, hour), target_size, verbose=False)\n",
    "        \n",
    "        out_data = postprocess(in_data, in_bbox, predictions, check=True)\n",
    "        out_eop = copy.deepcopy(in_eop)\n",
    "        out_eop.data[\"NO2\"] = out_data.reshape(1, target_size[0], target_size[1], 1)\n",
    "        \n",
    "        ft = FeatureType(\"data\")\n",
    "        eo_exporter = ExportToTiff(ft, outdir/outfile, no_data_value=-1e+12)\n",
    "        eo_exporter.execute(out_eop)\n",
    "        out_image = mask_tiff(write_dir/'bbox-wgs84.shp', outdir/outfile, outdir/outfile)     \n",
    "\n",
    "print(\"Done!\")"
   ]
  },
  {
   "cell_type": "code",
   "execution_count": 1,
   "id": "imperial-trick",
   "metadata": {},
   "outputs": [],
   "source": [
    "out_data = postprocess(in_data, in_bbox, predictions, check=True)\n",
    "plt.figure(figsize=(18, 6))\n",
    "plt.subplot(131, title=\"Model estimation of the difference from the native image\")\n",
    "plt.imshow(predictions)\n",
    "plt.subplot(132, title=\"Native image\")\n",
    "plt.imshow(in_data)\n",
    "plt.subplot(133, title=\"Final image\")\n",
    "plt.imshow(out_data)"
   ]
  },
  {
   "cell_type": "code",
   "execution_count": null,
   "id": "macro-football",
   "metadata": {},
   "outputs": [],
   "source": []
  }
 ],
 "metadata": {
  "kernelspec": {
   "display_name": "Python 3",
   "language": "python",
   "name": "python3"
  },
  "language_info": {
   "codemirror_mode": {
    "name": "ipython",
    "version": 3
   },
   "file_extension": ".py",
   "mimetype": "text/x-python",
   "name": "python",
   "nbconvert_exporter": "python",
   "pygments_lexer": "ipython3",
   "version": "3.8.8"
  }
 },
 "nbformat": 4,
 "nbformat_minor": 5
}
